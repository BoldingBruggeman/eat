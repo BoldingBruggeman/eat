{
 "cells": [
  {
   "cell_type": "code",
   "execution_count": null,
   "metadata": {},
   "outputs": [],
   "source": [
    "import os.path\n",
    "import datetime\n",
    "import warnings\n",
    "warnings.filterwarnings('ignore')\n",
    "\n",
    "import numpy as np\n",
    "import netCDF4\n",
    "from matplotlib import pyplot\n",
    "from matplotlib import dates\n",
    "\n",
    "setup_dir = \".\"\n",
    "varname = \"temp\""
   ]
  },
  {
   "cell_type": "code",
   "execution_count": null,
   "metadata": {},
   "outputs": [],
   "source": [
    "# Read satellite observations of sea surface temperature\n",
    "obs = []\n",
    "if varname == 'temp':\n",
    "    for l in open(os.path.join(setup_dir, 'cci_sst.dat')):\n",
    "        if not l.startswith('#'):\n",
    "            dt, value, sd = l.rstrip().split('\\t')\n",
    "            obs.append([datetime.datetime.strptime(dt, '%Y-%m-%d %H:%M:%S'), float(value), float(sd)])\n",
    "obs = np.array(obs).reshape(-1, 3)"
   ]
  },
  {
   "attachments": {},
   "cell_type": "markdown",
   "metadata": {},
   "source": [
    "## Plot default GOTM results\n",
    "\n",
    "Forecast-only, no data assimilation"
   ]
  },
  {
   "cell_type": "code",
   "execution_count": null,
   "metadata": {},
   "outputs": [],
   "source": [
    "nc = netCDF4.Dataset(os.path.join(setup_dir, 'result.nc'))\n",
    "\n",
    "time = netCDF4.num2date(nc['time'], nc['time'].units)\n",
    "mpltime = dates.date2num(time)\n",
    "z = nc['z'][:, :, 0, 0]\n",
    "temp = nc[varname][:, :, 0, 0]\n",
    "sst = temp[:, -1]\n",
    "\n",
    "fig, (ax1, ax2) = pyplot.subplots(figsize=(8,8), nrows=2)\n",
    "\n",
    "ax1.plot_date(obs[:,0], obs[:,1], '.', label='satellite')\n",
    "ax1.plot_date(mpltime, sst, '-', label='model')\n",
    "ax1.set_xlim(mpltime[0], mpltime[-1])\n",
    "ax1.set_ylabel('temperature (\\u00b0C)')\n",
    "ax1.grid()\n",
    "ax1.legend()\n",
    "ax1.set_title('sea surface temperature')\n",
    "\n",
    "mpltime_2d = np.broadcast_to(mpltime[:, np.newaxis], z.shape)\n",
    "pc = ax2.contourf(mpltime_2d, z, temp)\n",
    "cb = fig.colorbar(pc, ax=ax2)\n",
    "cb.set_label('potential temperature (\\u00b0C)')\n",
    "ax2.set_ylabel('height (m)')\n",
    "ax2.set_title('water temperature')\n",
    "ax2.xaxis.axis_date()"
   ]
  },
  {
   "attachments": {},
   "cell_type": "markdown",
   "metadata": {},
   "source": [
    "## Plot ensemble GOTM results"
   ]
  },
  {
   "cell_type": "code",
   "execution_count": null,
   "metadata": {},
   "outputs": [],
   "source": [
    "N = 4\n",
    "ncs = [netCDF4.Dataset(os.path.join(setup_dir, 'result_%04i.nc' % (i + 1))) for i in range(N)]\n",
    "\n",
    "enstime = netCDF4.num2date(ncs[0]['time'], ncs[0]['time'].units)\n",
    "ensmpltime = dates.date2num(enstime)\n",
    "z = ncs[0].variables['z'][:, :, 0, 0]\n",
    "temps = [nc[varname][:, :, 0, 0] for nc in ncs]\n",
    "ssts = [temp[:, -1] for temp in temps]\n",
    "\n",
    "fig, (ax1, ax2) = pyplot.subplots(figsize=(8,12), nrows=2)\n",
    "ax1.plot_date(obs[:,0], obs[:,1], '.', label='satellite')\n",
    "ax1.plot_date(time, sst, '-', label='model, no DA')\n",
    "ax1.plot_date(enstime, np.mean(ssts, axis=0), '-', label='model, DA')\n",
    "ax1.set_xlim(time[0], time[-1])\n",
    "ax1.set_ylabel('temperature (\\u00b0C)')\n",
    "ax1.grid()\n",
    "ax1.legend()\n",
    "ax1.set_title('sea surface temperature')\n",
    "\n",
    "mpltime_2d = np.broadcast_to(ensmpltime[:, np.newaxis], z.shape)\n",
    "temp_diff = np.mean(temps, axis=0) - temp[-enstime.size:, :]\n",
    "pc = ax2.contourf(mpltime_2d, z, temp_diff, cmap='RdBu_r', levels=np.linspace(-1.,1.,21), extend='both')\n",
    "cb = fig.colorbar(pc, ax=ax2)\n",
    "cb.set_label('temperature difference (\\u00b0C)')\n",
    "ax2.set_ylabel('height (m)')\n",
    "ax2.set_title('water temperature difference (DA - no DA)');\n",
    "ax2.xaxis.axis_date()"
   ]
  },
  {
   "cell_type": "code",
   "execution_count": null,
   "metadata": {},
   "outputs": [],
   "source": []
  }
 ],
 "metadata": {
  "kernelspec": {
   "display_name": "base",
   "language": "python",
   "name": "python3"
  },
  "language_info": {
   "codemirror_mode": {
    "name": "ipython",
    "version": 3
   },
   "file_extension": ".py",
   "mimetype": "text/x-python",
   "name": "python",
   "nbconvert_exporter": "python",
   "pygments_lexer": "ipython3",
   "version": "3.9.7"
  },
  "orig_nbformat": 4,
  "vscode": {
   "interpreter": {
    "hash": "e4cce46d6be9934fbd27f9ca0432556941ea5bdf741d4f4d64c6cd7f8dfa8fba"
   }
  }
 },
 "nbformat": 4,
 "nbformat_minor": 2
}
